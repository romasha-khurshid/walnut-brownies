{
  "nbformat": 4,
  "nbformat_minor": 0,
  "metadata": {
    "colab": {
      "provenance": [],
      "authorship_tag": "ABX9TyPe0AkEl5B2Yd6FvkT2JMvM",
      "include_colab_link": true
    },
    "kernelspec": {
      "name": "python3",
      "display_name": "Python 3"
    },
    "language_info": {
      "name": "python"
    }
  },
  "cells": [
    {
      "cell_type": "markdown",
      "metadata": {
        "id": "view-in-github",
        "colab_type": "text"
      },
      "source": [
        "<a href=\"https://colab.research.google.com/github/romasha-khurshid/walnut-brownies/blob/main/Untitled5.ipynb\" target=\"_parent\"><img src=\"https://colab.research.google.com/assets/colab-badge.svg\" alt=\"Open In Colab\"/></a>"
      ]
    },
    {
      "cell_type": "markdown",
      "source": [
        "Library in python if you wanted to read pdf file."
      ],
      "metadata": {
        "id": "0m4bo1CLrC2e"
      }
    },
    {
      "cell_type": "code",
      "execution_count": 1,
      "metadata": {
        "id": "OLmMH1OtrAtp",
        "colab": {
          "base_uri": "https://localhost:8080/"
        },
        "outputId": "9e2135ac-8e45-4dbb-be30-c88ba68a208e"
      },
      "outputs": [
        {
          "output_type": "stream",
          "name": "stdout",
          "text": [
            "Looking in indexes: https://pypi.org/simple, https://us-python.pkg.dev/colab-wheels/public/simple/\n",
            "Collecting PyPDF2\n",
            "  Downloading pypdf2-3.0.1-py3-none-any.whl (232 kB)\n",
            "\u001b[2K     \u001b[90m━━━━━━━━━━━━━━━━━━━━━━━━━━━━━━━━━━━━━━━\u001b[0m \u001b[32m232.6/232.6 KB\u001b[0m \u001b[31m6.6 MB/s\u001b[0m eta \u001b[36m0:00:00\u001b[0m\n",
            "\u001b[?25hRequirement already satisfied: typing_extensions>=3.10.0.0 in /usr/local/lib/python3.8/dist-packages (from PyPDF2) (4.5.0)\n",
            "Installing collected packages: PyPDF2\n",
            "Successfully installed PyPDF2-3.0.1\n"
          ]
        }
      ],
      "source": [
        "!pip install PyPDF2"
      ]
    },
    {
      "cell_type": "code",
      "source": [
        "import PyPDF2"
      ],
      "metadata": {
        "id": "881gpxiDsJmL"
      },
      "execution_count": 2,
      "outputs": []
    },
    {
      "cell_type": "code",
      "source": [
        "#Creating a PDF file object\n",
        "data=open('/content/Corpus (2).pdf','rb')\n",
        "\n",
        "#Creating a PDF reader object\n",
        "reader=PyPDF2.PdfReader(data)\n",
        "\n",
        "#printing Number of Pages in PDF file\n",
        "len(reader.pages)"
      ],
      "metadata": {
        "colab": {
          "base_uri": "https://localhost:8080/"
        },
        "id": "0HOFO6iWsYdu",
        "outputId": "03a48742-02db-4d75-c379-abf9d7656167"
      },
      "execution_count": 3,
      "outputs": [
        {
          "output_type": "execute_result",
          "data": {
            "text/plain": [
              "1"
            ]
          },
          "metadata": {},
          "execution_count": 3
        }
      ]
    },
    {
      "cell_type": "code",
      "source": [
        "from IPython.core.interactiveshell import page\n",
        "#Creating a page\n",
        "page=reader.pages[0]"
      ],
      "metadata": {
        "id": "5efaZvpVskkM"
      },
      "execution_count": 4,
      "outputs": []
    },
    {
      "cell_type": "code",
      "source": [
        "#Extracting Text Pages\n",
        "Text=page.extract_text()\n",
        "print(Text)"
      ],
      "metadata": {
        "colab": {
          "base_uri": "https://localhost:8080/"
        },
        "id": "xjodJnj0wjT9",
        "outputId": "05c4afe6-6691-4825-ea83-9a217159f72b"
      },
      "execution_count": 5,
      "outputs": [
        {
          "output_type": "stream",
          "name": "stdout",
          "text": [
            "I am writing this letter to let you know about Mr. Smith ’s health, he ’s getting weak day by day. I told him \n",
            "to visit USA but he denied for long travelling. His children will visit them soon  may be he will starts  \n",
            "feeling better  after meeting his  grand kids.  \n"
          ]
        }
      ]
    },
    {
      "cell_type": "code",
      "source": [
        "#Tokenization\n",
        "import nltk\n",
        "nltk.download('punkt')\n",
        "tokens=nltk.sent_tokenize(Text)\n",
        "print(tokens)"
      ],
      "metadata": {
        "colab": {
          "base_uri": "https://localhost:8080/"
        },
        "id": "B6MVLcda0NxF",
        "outputId": "988ee855-0420-4326-b467-0d974cd797aa"
      },
      "execution_count": 6,
      "outputs": [
        {
          "output_type": "stream",
          "name": "stderr",
          "text": [
            "[nltk_data] Downloading package punkt to /root/nltk_data...\n",
            "[nltk_data]   Unzipping tokenizers/punkt.zip.\n"
          ]
        },
        {
          "output_type": "stream",
          "name": "stdout",
          "text": [
            "['I am writing this letter to let you know about Mr. Smith ’s health, he ’s getting weak day by day.', 'I told him \\nto visit USA but he denied for long travelling.', 'His children will visit them soon  may be he will starts  \\nfeeling better  after meeting his  grand kids.']\n"
          ]
        }
      ]
    },
    {
      "cell_type": "code",
      "source": [
        "#Tokenization\n",
        "import nltk\n",
        "nltk.download('punkt')\n",
        "tokens=nltk.word_tokenize(Text)  \n",
        "print(tokens)\n",
        "len(tokens)"
      ],
      "metadata": {
        "id": "efSznEz3wezj",
        "colab": {
          "base_uri": "https://localhost:8080/"
        },
        "outputId": "117712ca-77fc-4904-9ecd-b389d667f4c5"
      },
      "execution_count": 7,
      "outputs": [
        {
          "output_type": "stream",
          "name": "stdout",
          "text": [
            "['I', 'am', 'writing', 'this', 'letter', 'to', 'let', 'you', 'know', 'about', 'Mr.', 'Smith', '’', 's', 'health', ',', 'he', '’', 's', 'getting', 'weak', 'day', 'by', 'day', '.', 'I', 'told', 'him', 'to', 'visit', 'USA', 'but', 'he', 'denied', 'for', 'long', 'travelling', '.', 'His', 'children', 'will', 'visit', 'them', 'soon', 'may', 'be', 'he', 'will', 'starts', 'feeling', 'better', 'after', 'meeting', 'his', 'grand', 'kids', '.']\n"
          ]
        },
        {
          "output_type": "stream",
          "name": "stderr",
          "text": [
            "[nltk_data] Downloading package punkt to /root/nltk_data...\n",
            "[nltk_data]   Package punkt is already up-to-date!\n"
          ]
        },
        {
          "output_type": "execute_result",
          "data": {
            "text/plain": [
              "57"
            ]
          },
          "metadata": {},
          "execution_count": 7
        }
      ]
    },
    {
      "cell_type": "code",
      "source": [
        "#Stopwords Removal\n",
        "#Get the list of english stopwords\n",
        "from nltk.corpus import stopwords\n",
        "import nltk\n",
        "nltk.download('stopwords')\n",
        "stop_words=set(stopwords.words('english'))\n",
        "print(stop_words)"
      ],
      "metadata": {
        "id": "VM4eki7r7Dxx",
        "colab": {
          "base_uri": "https://localhost:8080/"
        },
        "outputId": "0d2efa3b-9091-459e-92ba-788e534afe08"
      },
      "execution_count": 8,
      "outputs": [
        {
          "output_type": "stream",
          "name": "stdout",
          "text": [
            "{'of', 'any', 'do', 'above', 'doesn', 'needn', \"shan't\", 'hers', 'at', 'shouldn', 'out', 'from', 'she', 'ma', 'him', 'off', 'whom', 'itself', 'be', 'through', 'to', 'but', \"hasn't\", \"she's\", 'ain', 'they', 'until', 'under', 'have', \"it's\", 'only', 'not', 'this', \"couldn't\", 'because', 'more', 'a', 'while', 'will', 'yours', 'no', 'm', 'which', 'his', 'hasn', 'just', 'won', 'ourselves', 'after', 'so', \"weren't\", 'some', 'was', 'its', 'were', 'against', \"you've\", 'own', \"haven't\", 'by', 'that', 'you', 'into', \"won't\", 'between', 'wasn', 'if', 're', 'in', 'other', \"isn't\", 'during', 'down', \"shouldn't\", 'our', 'over', 'doing', 'few', 'it', 'further', \"mightn't\", 'mightn', 'with', 'herself', 'he', 'those', 'their', \"that'll\", 'here', 'before', 'who', \"you'll\", 'been', \"didn't\", 'had', 'how', 'weren', 'for', 'is', 'we', 'once', 'very', 'when', 'about', 's', 'i', 'again', 'there', 'than', 'll', 'ours', 'your', 'does', \"mustn't\", 'an', 'why', 'couldn', 'these', \"should've\", 'd', 'are', 'now', 'yourselves', 'didn', \"doesn't\", 'theirs', 'should', \"wasn't\", 'yourself', 'isn', 'on', 'what', 'themselves', 'hadn', 'haven', 'o', 'being', 'where', 'and', 'himself', 'below', 'such', 't', \"needn't\", 'as', 'same', 'wouldn', 'has', 'am', 'up', \"hadn't\", 'too', \"you're\", \"aren't\", 'both', 'can', 'y', 've', 'all', 'most', 'did', 'don', 'nor', 'myself', 'or', 'each', 'mustn', \"wouldn't\", 'my', 'the', 'her', 'me', 'having', 'then', 'shan', 'aren', 'them', \"you'd\", \"don't\"}\n"
          ]
        },
        {
          "output_type": "stream",
          "name": "stderr",
          "text": [
            "[nltk_data] Downloading package stopwords to /root/nltk_data...\n",
            "[nltk_data]   Unzipping corpora/stopwords.zip.\n"
          ]
        }
      ]
    },
    {
      "cell_type": "code",
      "source": [
        "#Print stopwords of a given corpus\n",
        "for word in tokens:\n",
        "  if word in stop_words:\n",
        "    print(word)\n"
      ],
      "metadata": {
        "id": "CVy1v2ai_vUV",
        "colab": {
          "base_uri": "https://localhost:8080/"
        },
        "outputId": "b2eadd16-66da-4360-c65f-0e51628fd4c1"
      },
      "execution_count": 9,
      "outputs": [
        {
          "output_type": "stream",
          "name": "stdout",
          "text": [
            "am\n",
            "this\n",
            "to\n",
            "you\n",
            "about\n",
            "s\n",
            "he\n",
            "s\n",
            "by\n",
            "him\n",
            "to\n",
            "but\n",
            "he\n",
            "for\n",
            "will\n",
            "them\n",
            "be\n",
            "he\n",
            "will\n",
            "after\n",
            "his\n"
          ]
        }
      ]
    },
    {
      "cell_type": "code",
      "source": [
        "#Removing stopwords\n",
        "filtered_corpus=[]\n",
        "for word in tokens:\n",
        "  if word not in stop_words:\n",
        "    filtered_corpus.append(word)   "
      ],
      "metadata": {
        "id": "0hzHLvMZCnFm"
      },
      "execution_count": 10,
      "outputs": []
    },
    {
      "cell_type": "code",
      "source": [
        "    print(filtered_corpus)"
      ],
      "metadata": {
        "colab": {
          "base_uri": "https://localhost:8080/"
        },
        "id": "Rv8ZKVmnD1Ow",
        "outputId": "79ac2ba7-d3af-42db-8b5a-333f03fe8b27"
      },
      "execution_count": 11,
      "outputs": [
        {
          "output_type": "stream",
          "name": "stdout",
          "text": [
            "['I', 'writing', 'letter', 'let', 'know', 'Mr.', 'Smith', '’', 'health', ',', '’', 'getting', 'weak', 'day', 'day', '.', 'I', 'told', 'visit', 'USA', 'denied', 'long', 'travelling', '.', 'His', 'children', 'visit', 'soon', 'may', 'starts', 'feeling', 'better', 'meeting', 'grand', 'kids', '.']\n"
          ]
        }
      ]
    },
    {
      "cell_type": "code",
      "source": [
        "from nltk.stem import PorterStemmer\n",
        "portstem=PorterStemmer()\n",
        "Stemmed_corpus=[]\n",
        "for i in filtered_corpus:\n",
        "  Stemmed_corpus.append(portstem.stem(i))\n",
        " "
      ],
      "metadata": {
        "id": "qb_3BTfzVedn"
      },
      "execution_count": 12,
      "outputs": []
    },
    {
      "cell_type": "code",
      "source": [
        "print(Stemmed_corpus)"
      ],
      "metadata": {
        "colab": {
          "base_uri": "https://localhost:8080/"
        },
        "id": "oFaC9sxYJFBX",
        "outputId": "63656327-36eb-44d8-8ffb-492f7ac0ed5e"
      },
      "execution_count": 13,
      "outputs": [
        {
          "output_type": "stream",
          "name": "stdout",
          "text": [
            "['i', 'write', 'letter', 'let', 'know', 'mr.', 'smith', '’', 'health', ',', '’', 'get', 'weak', 'day', 'day', '.', 'i', 'told', 'visit', 'usa', 'deni', 'long', 'travel', '.', 'hi', 'children', 'visit', 'soon', 'may', 'start', 'feel', 'better', 'meet', 'grand', 'kid', '.']\n"
          ]
        }
      ]
    },
    {
      "cell_type": "code",
      "source": [
        "#Removing Punctuation\n",
        "import re\n",
        "Punc_free_corpus = re.sub(r\"[^\\w\\s]\", \"\",str(Stemmed_corpus))\n",
        "print(Punc_free_corpus)\n"
      ],
      "metadata": {
        "id": "oFA3yTp3nsXW",
        "colab": {
          "base_uri": "https://localhost:8080/"
        },
        "outputId": "a08e6080-6073-43f9-d2bd-b587868c97cb"
      },
      "execution_count": 14,
      "outputs": [
        {
          "output_type": "stream",
          "name": "stdout",
          "text": [
            "i write letter let know mr smith  health   get weak day day  i told visit usa deni long travel  hi children visit soon may start feel better meet grand kid \n"
          ]
        }
      ]
    },
    {
      "cell_type": "code",
      "source": [
        "import nltk\n",
        "nltk.download('wordnet')\n",
        "nltk.download('omw-1.4')\n",
        "from nltk.stem import WordNetLemmatizer\n",
        "lemmatizer = WordNetLemmatizer()\n",
        "lemmatized_text=\"\"\n",
        "# Lemmatization\n",
        "for i in filtered_corpus:\n",
        " lemmatized_text+=lemmatizer.lemmatize(i, pos='v') + ' '\n",
        " "
      ],
      "metadata": {
        "colab": {
          "base_uri": "https://localhost:8080/"
        },
        "id": "-rsT02GOANa9",
        "outputId": "8bd899f3-155c-4610-80d8-e7777e1771f9"
      },
      "execution_count": 15,
      "outputs": [
        {
          "output_type": "stream",
          "name": "stderr",
          "text": [
            "[nltk_data] Downloading package wordnet to /root/nltk_data...\n",
            "[nltk_data] Downloading package omw-1.4 to /root/nltk_data...\n"
          ]
        }
      ]
    },
    {
      "cell_type": "code",
      "source": [
        "Punc_free_text = re.sub(r\"[^\\w\\s]\", \"\",lemmatized_text)\n",
        "print(Punc_free_text)"
      ],
      "metadata": {
        "colab": {
          "base_uri": "https://localhost:8080/"
        },
        "id": "Ty9eRSmOBgeE",
        "outputId": "222e9481-abbb-4a64-b1c5-4c7fd71d49b9"
      },
      "execution_count": 16,
      "outputs": [
        {
          "output_type": "stream",
          "name": "stdout",
          "text": [
            "I write letter let know Mr Smith  health   get weak day day  I tell visit USA deny long travel  His children visit soon may start feel better meet grand kid  \n"
          ]
        }
      ]
    },
    {
      "cell_type": "markdown",
      "source": [
        "# **Feature Extraction (Bag-of-words)**"
      ],
      "metadata": {
        "id": "K4EFrgQ5lsA8"
      }
    },
    {
      "cell_type": "code",
      "source": [
        "#Import Required Library\n",
        "from sklearn.feature_extraction.text import CountVectorizer \n",
        "\n",
        "#Instantiate the vectorizer\n",
        "count_Vect=CountVectorizer()\n",
        "\n",
        "#Take cleaned text and fit them as bag-of-words\n",
        "cleaned_Text=[Punc_free_text]\n",
        "BOW=count_Vect.fit(cleaned_Text)\n"
      ],
      "metadata": {
        "id": "Eovvh2cDFxkQ"
      },
      "execution_count": 17,
      "outputs": []
    },
    {
      "cell_type": "code",
      "source": [
        "BOW=count_Vect.get_feature_names_out()\n",
        "print(BOW)"
      ],
      "metadata": {
        "colab": {
          "base_uri": "https://localhost:8080/"
        },
        "id": "gCP0W8klPTZ_",
        "outputId": "c57f5393-fde7-4cd9-e55e-ff048080d2f6"
      },
      "execution_count": 18,
      "outputs": [
        {
          "output_type": "stream",
          "name": "stdout",
          "text": [
            "['better', 'children', 'day', 'deny', 'feel', 'get', 'grand', 'health', 'his', 'kid', 'know', 'let', 'letter', 'long', 'may', 'meet', 'mr', 'smith', 'soon', 'start', 'tell', 'travel', 'usa', 'visit', 'weak', 'write']\n"
          ]
        },
        {
          "output_type": "stream",
          "name": "stderr",
          "text": [
            "/usr/local/lib/python3.8/dist-packages/sklearn/utils/deprecation.py:87: FutureWarning: Function get_feature_names is deprecated; get_feature_names is deprecated in 1.0 and will be removed in 1.2. Please use get_feature_names_out instead.\n",
            "  warnings.warn(msg, category=FutureWarning)\n"
          ]
        }
      ]
    },
    {
      "cell_type": "code",
      "source": [
        "import pandas as pd\n",
        "x=count_Vect.fit_transform(cleaned_Text)\n",
        "df_bow_sklearn = pd.DataFrame(x.toarray(),columns=count_Vect.get_feature_names_out())\n",
        "df_bow_sklearn.head()"
      ],
      "metadata": {
        "colab": {
          "base_uri": "https://localhost:8080/",
          "height": 165
        },
        "id": "QDdHNlJJLqfd",
        "outputId": "7aaf685b-ec46-4372-e4c9-37edb63ff32e"
      },
      "execution_count": 19,
      "outputs": [
        {
          "output_type": "stream",
          "name": "stderr",
          "text": [
            "/usr/local/lib/python3.8/dist-packages/sklearn/utils/deprecation.py:87: FutureWarning: Function get_feature_names is deprecated; get_feature_names is deprecated in 1.0 and will be removed in 1.2. Please use get_feature_names_out instead.\n",
            "  warnings.warn(msg, category=FutureWarning)\n"
          ]
        },
        {
          "output_type": "execute_result",
          "data": {
            "text/plain": [
              "   better  children  day  deny  feel  get  grand  health  his  kid  ...  mr  \\\n",
              "0       1         1    2     1     1    1      1       1    1    1  ...   1   \n",
              "\n",
              "   smith  soon  start  tell  travel  usa  visit  weak  write  \n",
              "0      1     1      1     1       1    1      2     1      1  \n",
              "\n",
              "[1 rows x 26 columns]"
            ],
            "text/html": [
              "\n",
              "  <div id=\"df-9fec83b6-8103-418a-8ea2-12a70f27987f\">\n",
              "    <div class=\"colab-df-container\">\n",
              "      <div>\n",
              "<style scoped>\n",
              "    .dataframe tbody tr th:only-of-type {\n",
              "        vertical-align: middle;\n",
              "    }\n",
              "\n",
              "    .dataframe tbody tr th {\n",
              "        vertical-align: top;\n",
              "    }\n",
              "\n",
              "    .dataframe thead th {\n",
              "        text-align: right;\n",
              "    }\n",
              "</style>\n",
              "<table border=\"1\" class=\"dataframe\">\n",
              "  <thead>\n",
              "    <tr style=\"text-align: right;\">\n",
              "      <th></th>\n",
              "      <th>better</th>\n",
              "      <th>children</th>\n",
              "      <th>day</th>\n",
              "      <th>deny</th>\n",
              "      <th>feel</th>\n",
              "      <th>get</th>\n",
              "      <th>grand</th>\n",
              "      <th>health</th>\n",
              "      <th>his</th>\n",
              "      <th>kid</th>\n",
              "      <th>...</th>\n",
              "      <th>mr</th>\n",
              "      <th>smith</th>\n",
              "      <th>soon</th>\n",
              "      <th>start</th>\n",
              "      <th>tell</th>\n",
              "      <th>travel</th>\n",
              "      <th>usa</th>\n",
              "      <th>visit</th>\n",
              "      <th>weak</th>\n",
              "      <th>write</th>\n",
              "    </tr>\n",
              "  </thead>\n",
              "  <tbody>\n",
              "    <tr>\n",
              "      <th>0</th>\n",
              "      <td>1</td>\n",
              "      <td>1</td>\n",
              "      <td>2</td>\n",
              "      <td>1</td>\n",
              "      <td>1</td>\n",
              "      <td>1</td>\n",
              "      <td>1</td>\n",
              "      <td>1</td>\n",
              "      <td>1</td>\n",
              "      <td>1</td>\n",
              "      <td>...</td>\n",
              "      <td>1</td>\n",
              "      <td>1</td>\n",
              "      <td>1</td>\n",
              "      <td>1</td>\n",
              "      <td>1</td>\n",
              "      <td>1</td>\n",
              "      <td>1</td>\n",
              "      <td>2</td>\n",
              "      <td>1</td>\n",
              "      <td>1</td>\n",
              "    </tr>\n",
              "  </tbody>\n",
              "</table>\n",
              "<p>1 rows × 26 columns</p>\n",
              "</div>\n",
              "      <button class=\"colab-df-convert\" onclick=\"convertToInteractive('df-9fec83b6-8103-418a-8ea2-12a70f27987f')\"\n",
              "              title=\"Convert this dataframe to an interactive table.\"\n",
              "              style=\"display:none;\">\n",
              "        \n",
              "  <svg xmlns=\"http://www.w3.org/2000/svg\" height=\"24px\"viewBox=\"0 0 24 24\"\n",
              "       width=\"24px\">\n",
              "    <path d=\"M0 0h24v24H0V0z\" fill=\"none\"/>\n",
              "    <path d=\"M18.56 5.44l.94 2.06.94-2.06 2.06-.94-2.06-.94-.94-2.06-.94 2.06-2.06.94zm-11 1L8.5 8.5l.94-2.06 2.06-.94-2.06-.94L8.5 2.5l-.94 2.06-2.06.94zm10 10l.94 2.06.94-2.06 2.06-.94-2.06-.94-.94-2.06-.94 2.06-2.06.94z\"/><path d=\"M17.41 7.96l-1.37-1.37c-.4-.4-.92-.59-1.43-.59-.52 0-1.04.2-1.43.59L10.3 9.45l-7.72 7.72c-.78.78-.78 2.05 0 2.83L4 21.41c.39.39.9.59 1.41.59.51 0 1.02-.2 1.41-.59l7.78-7.78 2.81-2.81c.8-.78.8-2.07 0-2.86zM5.41 20L4 18.59l7.72-7.72 1.47 1.35L5.41 20z\"/>\n",
              "  </svg>\n",
              "      </button>\n",
              "      \n",
              "  <style>\n",
              "    .colab-df-container {\n",
              "      display:flex;\n",
              "      flex-wrap:wrap;\n",
              "      gap: 12px;\n",
              "    }\n",
              "\n",
              "    .colab-df-convert {\n",
              "      background-color: #E8F0FE;\n",
              "      border: none;\n",
              "      border-radius: 50%;\n",
              "      cursor: pointer;\n",
              "      display: none;\n",
              "      fill: #1967D2;\n",
              "      height: 32px;\n",
              "      padding: 0 0 0 0;\n",
              "      width: 32px;\n",
              "    }\n",
              "\n",
              "    .colab-df-convert:hover {\n",
              "      background-color: #E2EBFA;\n",
              "      box-shadow: 0px 1px 2px rgba(60, 64, 67, 0.3), 0px 1px 3px 1px rgba(60, 64, 67, 0.15);\n",
              "      fill: #174EA6;\n",
              "    }\n",
              "\n",
              "    [theme=dark] .colab-df-convert {\n",
              "      background-color: #3B4455;\n",
              "      fill: #D2E3FC;\n",
              "    }\n",
              "\n",
              "    [theme=dark] .colab-df-convert:hover {\n",
              "      background-color: #434B5C;\n",
              "      box-shadow: 0px 1px 3px 1px rgba(0, 0, 0, 0.15);\n",
              "      filter: drop-shadow(0px 1px 2px rgba(0, 0, 0, 0.3));\n",
              "      fill: #FFFFFF;\n",
              "    }\n",
              "  </style>\n",
              "\n",
              "      <script>\n",
              "        const buttonEl =\n",
              "          document.querySelector('#df-9fec83b6-8103-418a-8ea2-12a70f27987f button.colab-df-convert');\n",
              "        buttonEl.style.display =\n",
              "          google.colab.kernel.accessAllowed ? 'block' : 'none';\n",
              "\n",
              "        async function convertToInteractive(key) {\n",
              "          const element = document.querySelector('#df-9fec83b6-8103-418a-8ea2-12a70f27987f');\n",
              "          const dataTable =\n",
              "            await google.colab.kernel.invokeFunction('convertToInteractive',\n",
              "                                                     [key], {});\n",
              "          if (!dataTable) return;\n",
              "\n",
              "          const docLinkHtml = 'Like what you see? Visit the ' +\n",
              "            '<a target=\"_blank\" href=https://colab.research.google.com/notebooks/data_table.ipynb>data table notebook</a>'\n",
              "            + ' to learn more about interactive tables.';\n",
              "          element.innerHTML = '';\n",
              "          dataTable['output_type'] = 'display_data';\n",
              "          await google.colab.output.renderOutput(dataTable, element);\n",
              "          const docLink = document.createElement('div');\n",
              "          docLink.innerHTML = docLinkHtml;\n",
              "          element.appendChild(docLink);\n",
              "        }\n",
              "      </script>\n",
              "    </div>\n",
              "  </div>\n",
              "  "
            ]
          },
          "metadata": {},
          "execution_count": 19
        }
      ]
    }
  ]
}
