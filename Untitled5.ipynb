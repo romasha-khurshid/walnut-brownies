{
  "nbformat": 4,
  "nbformat_minor": 0,
  "metadata": {
    "colab": {
      "provenance": [],
      "authorship_tag": "ABX9TyOGWNvwqoGYLnY1lvsBgDvU",
      "include_colab_link": true
    },
    "kernelspec": {
      "name": "python3",
      "display_name": "Python 3"
    },
    "language_info": {
      "name": "python"
    }
  },
  "cells": [
    {
      "cell_type": "markdown",
      "metadata": {
        "id": "view-in-github",
        "colab_type": "text"
      },
      "source": [
        "<a href=\"https://colab.research.google.com/github/romasha-khurshid/walnut-brownies/blob/text-cleaning/Untitled5.ipynb\" target=\"_parent\"><img src=\"https://colab.research.google.com/assets/colab-badge.svg\" alt=\"Open In Colab\"/></a>"
      ]
    },
    {
      "cell_type": "markdown",
      "source": [
        "Library in python if you wanted to read pdf file."
      ],
      "metadata": {
        "id": "0m4bo1CLrC2e"
      }
    },
    {
      "cell_type": "code",
      "execution_count": 16,
      "metadata": {
        "id": "OLmMH1OtrAtp",
        "colab": {
          "base_uri": "https://localhost:8080/"
        },
        "outputId": "618355ad-2d2a-4f82-814b-25d714f741f4"
      },
      "outputs": [
        {
          "output_type": "stream",
          "name": "stdout",
          "text": [
            "Looking in indexes: https://pypi.org/simple, https://us-python.pkg.dev/colab-wheels/public/simple/\n",
            "Requirement already satisfied: PyPDF2 in /usr/local/lib/python3.8/dist-packages (3.0.1)\n",
            "Requirement already satisfied: typing_extensions>=3.10.0.0 in /usr/local/lib/python3.8/dist-packages (from PyPDF2) (4.4.0)\n"
          ]
        }
      ],
      "source": [
        "!pip install PyPDF2"
      ]
    },
    {
      "cell_type": "code",
      "source": [
        "import PyPDF2"
      ],
      "metadata": {
        "id": "881gpxiDsJmL"
      },
      "execution_count": 17,
      "outputs": []
    },
    {
      "cell_type": "code",
      "source": [
        "#Creating a PDF file object\n",
        "data=open('/content/Corpus (2).pdf','rb')\n",
        "\n",
        "#Creating a PDF reader object\n",
        "reader=PyPDF2.PdfReader(data)\n",
        "\n",
        "#printing Number of Pages in PDF file\n",
        "len(reader.pages)"
      ],
      "metadata": {
        "colab": {
          "base_uri": "https://localhost:8080/"
        },
        "id": "0HOFO6iWsYdu",
        "outputId": "6d464879-b434-4381-f2bc-e4ae460a7784"
      },
      "execution_count": 18,
      "outputs": [
        {
          "output_type": "execute_result",
          "data": {
            "text/plain": [
              "1"
            ]
          },
          "metadata": {},
          "execution_count": 18
        }
      ]
    },
    {
      "cell_type": "code",
      "source": [
        "from IPython.core.interactiveshell import page\n",
        "#Creating a page\n",
        "page=reader.pages[0]"
      ],
      "metadata": {
        "id": "5efaZvpVskkM"
      },
      "execution_count": 19,
      "outputs": []
    },
    {
      "cell_type": "code",
      "source": [
        "#Extracting Text Pages\n",
        "Text=page.extract_text()\n",
        "print(Text)"
      ],
      "metadata": {
        "colab": {
          "base_uri": "https://localhost:8080/"
        },
        "id": "xjodJnj0wjT9",
        "outputId": "0313c614-03be-4222-9ea2-1b8e981193d2"
      },
      "execution_count": 20,
      "outputs": [
        {
          "output_type": "stream",
          "name": "stdout",
          "text": [
            "I am writing this letter to let you know about Mr. Smith ’s health, he ’s getting weak day by day. I told him \n",
            "to visit USA but he denied for long travelling. His children will visit them soon  may be he will starts  \n",
            "feeling better  after meeting his  grand kids.  \n"
          ]
        }
      ]
    },
    {
      "cell_type": "code",
      "source": [
        "#Tokenization\n",
        "import nltk\n",
        "nltk.download('punkt')\n",
        "tokens=nltk.sent_tokenize(Text)\n",
        "print(tokens)"
      ],
      "metadata": {
        "colab": {
          "base_uri": "https://localhost:8080/"
        },
        "id": "B6MVLcda0NxF",
        "outputId": "bbb88999-e48a-46ce-fe5c-a59228ad917a"
      },
      "execution_count": 21,
      "outputs": [
        {
          "output_type": "stream",
          "name": "stdout",
          "text": [
            "['I am writing this letter to let you know about Mr. Smith ’s health, he ’s getting weak day by day.', 'I told him \\nto visit USA but he denied for long travelling.', 'His children will visit them soon  may be he will starts  \\nfeeling better  after meeting his  grand kids.']\n"
          ]
        },
        {
          "output_type": "stream",
          "name": "stderr",
          "text": [
            "[nltk_data] Downloading package punkt to /root/nltk_data...\n",
            "[nltk_data]   Package punkt is already up-to-date!\n"
          ]
        }
      ]
    },
    {
      "cell_type": "code",
      "source": [
        "#Tokenization\n",
        "import nltk\n",
        "nltk.download('punkt')\n",
        "tokens=nltk.word_tokenize(Text)  \n",
        "print(tokens)\n",
        "len(tokens)"
      ],
      "metadata": {
        "id": "efSznEz3wezj",
        "colab": {
          "base_uri": "https://localhost:8080/"
        },
        "outputId": "73c400cc-538f-4845-bc70-522387fb9761"
      },
      "execution_count": 22,
      "outputs": [
        {
          "output_type": "stream",
          "name": "stdout",
          "text": [
            "['I', 'am', 'writing', 'this', 'letter', 'to', 'let', 'you', 'know', 'about', 'Mr.', 'Smith', '’', 's', 'health', ',', 'he', '’', 's', 'getting', 'weak', 'day', 'by', 'day', '.', 'I', 'told', 'him', 'to', 'visit', 'USA', 'but', 'he', 'denied', 'for', 'long', 'travelling', '.', 'His', 'children', 'will', 'visit', 'them', 'soon', 'may', 'be', 'he', 'will', 'starts', 'feeling', 'better', 'after', 'meeting', 'his', 'grand', 'kids', '.']\n"
          ]
        },
        {
          "output_type": "stream",
          "name": "stderr",
          "text": [
            "[nltk_data] Downloading package punkt to /root/nltk_data...\n",
            "[nltk_data]   Package punkt is already up-to-date!\n"
          ]
        },
        {
          "output_type": "execute_result",
          "data": {
            "text/plain": [
              "57"
            ]
          },
          "metadata": {},
          "execution_count": 22
        }
      ]
    },
    {
      "cell_type": "code",
      "source": [
        "#Stopwords Removal\n",
        "#Get the list of english stopwords\n",
        "from nltk.corpus import stopwords\n",
        "import nltk\n",
        "nltk.download('stopwords')\n",
        "stop_words=set(stopwords.words('english'))\n",
        "print(stop_words)"
      ],
      "metadata": {
        "id": "VM4eki7r7Dxx",
        "colab": {
          "base_uri": "https://localhost:8080/"
        },
        "outputId": "322037b2-3a6f-4450-ed5e-eaf97ac7cf06"
      },
      "execution_count": 23,
      "outputs": [
        {
          "output_type": "stream",
          "name": "stdout",
          "text": [
            "{'aren', 'these', 'wasn', 'did', 'how', 'but', 'haven', 'who', \"you'd\", \"didn't\", 'his', 'yours', \"she's\", 'if', 'couldn', 'didn', 'during', 'as', 'ourselves', 'further', 'there', 'its', 'isn', 'd', 'themselves', 'they', 'why', 'nor', 'for', 'what', 'will', \"doesn't\", 'have', 'a', 'when', 'few', 'mightn', 'and', 'on', 'or', \"you'll\", 'between', 'hadn', 'just', 'doesn', 'own', 'being', 'both', 'can', 'himself', 'is', 'do', \"shan't\", 'before', 'yourselves', 'it', \"it's\", 'me', 'down', 'from', 'any', 'some', \"don't\", 'in', 'myself', \"weren't\", 'more', 'don', 'needn', 'because', 'has', 'up', 'those', \"mightn't\", 'm', 'theirs', 'this', 'was', 'through', 'once', 'here', 'again', \"couldn't\", 'shouldn', 'above', \"needn't\", 'the', 're', 'most', 'i', \"wasn't\", 'with', 'an', \"hasn't\", \"isn't\", \"shouldn't\", 'other', 'about', 'itself', 'are', 'your', 'while', 'wouldn', 'shan', \"aren't\", 'then', 'he', \"haven't\", 'll', 'o', 'at', 'won', 'having', 'below', 'over', 'you', \"that'll\", \"won't\", 'been', 'now', 'hers', 'ain', 'herself', 'had', 'doing', 'of', 'after', 'ma', 'against', 'very', 'hasn', 'him', 'does', 'under', 'be', 'off', 'into', 'their', 'not', 'mustn', \"wouldn't\", 'than', 'were', 'to', \"hadn't\", 'weren', 'ours', 'she', 'her', \"you're\", 'whom', 's', 'we', 'too', 've', 't', 'that', \"mustn't\", 'each', 'by', 'no', \"should've\", 'am', 'should', 'our', 'so', 'all', 'them', 'only', 'my', 'out', 'yourself', 'such', 'y', 'same', \"you've\", 'which', 'where', 'until'}\n"
          ]
        },
        {
          "output_type": "stream",
          "name": "stderr",
          "text": [
            "[nltk_data] Downloading package stopwords to /root/nltk_data...\n",
            "[nltk_data]   Package stopwords is already up-to-date!\n"
          ]
        }
      ]
    },
    {
      "cell_type": "code",
      "source": [
        "#Print stopwords of a given corpus\n",
        "for word in tokens:\n",
        "  if word in stop_words:\n",
        "    print(word)\n"
      ],
      "metadata": {
        "id": "CVy1v2ai_vUV",
        "colab": {
          "base_uri": "https://localhost:8080/"
        },
        "outputId": "4e887394-c459-45a5-f092-1c662125313b"
      },
      "execution_count": 24,
      "outputs": [
        {
          "output_type": "stream",
          "name": "stdout",
          "text": [
            "am\n",
            "this\n",
            "to\n",
            "you\n",
            "about\n",
            "s\n",
            "he\n",
            "s\n",
            "by\n",
            "him\n",
            "to\n",
            "but\n",
            "he\n",
            "for\n",
            "will\n",
            "them\n",
            "be\n",
            "he\n",
            "will\n",
            "after\n",
            "his\n"
          ]
        }
      ]
    },
    {
      "cell_type": "code",
      "source": [
        "#Removing stopwords\n",
        "filtered_corpus=[]\n",
        "for word in tokens:\n",
        "  if word not in stop_words:\n",
        "    filtered_corpus.append(word)   "
      ],
      "metadata": {
        "id": "0hzHLvMZCnFm"
      },
      "execution_count": 25,
      "outputs": []
    },
    {
      "cell_type": "code",
      "source": [
        "    print(filtered_corpus)"
      ],
      "metadata": {
        "colab": {
          "base_uri": "https://localhost:8080/"
        },
        "id": "Rv8ZKVmnD1Ow",
        "outputId": "827665c1-821e-46ab-c86f-2b79550ded28"
      },
      "execution_count": 26,
      "outputs": [
        {
          "output_type": "stream",
          "name": "stdout",
          "text": [
            "['I', 'writing', 'letter', 'let', 'know', 'Mr.', 'Smith', '’', 'health', ',', '’', 'getting', 'weak', 'day', 'day', '.', 'I', 'told', 'visit', 'USA', 'denied', 'long', 'travelling', '.', 'His', 'children', 'visit', 'soon', 'may', 'starts', 'feeling', 'better', 'meeting', 'grand', 'kids', '.']\n"
          ]
        }
      ]
    },
    {
      "cell_type": "code",
      "source": [
        "from nltk.stem import PorterStemmer\n",
        "portstem=PorterStemmer()\n",
        "Stemmed_corpus=[]\n",
        "for i in filtered_corpus:\n",
        "  Stemmed_corpus.append(portstem.stem(i))\n",
        " "
      ],
      "metadata": {
        "id": "qb_3BTfzVedn"
      },
      "execution_count": 27,
      "outputs": []
    },
    {
      "cell_type": "code",
      "source": [
        "print(Stemmed_corpus)"
      ],
      "metadata": {
        "colab": {
          "base_uri": "https://localhost:8080/"
        },
        "id": "oFaC9sxYJFBX",
        "outputId": "db592471-c104-4b37-8146-957ff754aaf6"
      },
      "execution_count": 28,
      "outputs": [
        {
          "output_type": "stream",
          "name": "stdout",
          "text": [
            "['i', 'write', 'letter', 'let', 'know', 'mr.', 'smith', '’', 'health', ',', '’', 'get', 'weak', 'day', 'day', '.', 'i', 'told', 'visit', 'usa', 'deni', 'long', 'travel', '.', 'hi', 'children', 'visit', 'soon', 'may', 'start', 'feel', 'better', 'meet', 'grand', 'kid', '.']\n"
          ]
        }
      ]
    },
    {
      "cell_type": "code",
      "source": [
        "#Removing Punctuation\n",
        "import re\n",
        "Punc_free_corpus = re.sub(r\"[^\\w\\s]\", \"\",str(Stemmed_corpus))\n",
        "print(Punc_free_corpus)\n"
      ],
      "metadata": {
        "id": "oFA3yTp3nsXW",
        "colab": {
          "base_uri": "https://localhost:8080/"
        },
        "outputId": "7d088ac2-e519-4d26-a161-e4d8a70f61da"
      },
      "execution_count": 29,
      "outputs": [
        {
          "output_type": "stream",
          "name": "stdout",
          "text": [
            "i write letter let know mr smith  health   get weak day day  i told visit usa deni long travel  hi children visit soon may start feel better meet grand kid \n"
          ]
        }
      ]
    },
    {
      "cell_type": "code",
      "source": [
        "import nltk\n",
        "nltk.download('wordnet')\n",
        "nltk.download('omw-1.4')\n",
        "from nltk.stem import WordNetLemmatizer\n",
        "lemmatizer = WordNetLemmatizer()\n",
        "# Lemmatization\n",
        "for i in filtered_corpus:\n",
        "  print(lemmatizer.lemmatize(i,pos='v'),end='\\t')"
      ],
      "metadata": {
        "colab": {
          "base_uri": "https://localhost:8080/"
        },
        "id": "-rsT02GOANa9",
        "outputId": "0dfddd39-d49d-4ad3-ac3c-6e9d7fb24b2a"
      },
      "execution_count": 30,
      "outputs": [
        {
          "output_type": "stream",
          "name": "stderr",
          "text": [
            "[nltk_data] Downloading package wordnet to /root/nltk_data...\n",
            "[nltk_data]   Package wordnet is already up-to-date!\n",
            "[nltk_data] Downloading package omw-1.4 to /root/nltk_data...\n"
          ]
        },
        {
          "output_type": "stream",
          "name": "stdout",
          "text": [
            "I\twrite\tletter\tlet\tknow\tMr.\tSmith\t’\thealth\t,\t’\tget\tweak\tday\tday\t.\tI\ttell\tvisit\tUSA\tdeny\tlong\ttravel\t.\tHis\tchildren\tvisit\tsoon\tmay\tstart\tfeel\tbetter\tmeet\tgrand\tkid\t.\t"
          ]
        },
        {
          "output_type": "stream",
          "name": "stderr",
          "text": [
            "[nltk_data]   Package omw-1.4 is already up-to-date!\n"
          ]
        }
      ]
    },
    {
      "cell_type": "code",
      "source": [],
      "metadata": {
        "id": "Eovvh2cDFxkQ"
      },
      "execution_count": 30,
      "outputs": []
    }
  ]
}