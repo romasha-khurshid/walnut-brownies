{
  "nbformat": 4,
  "nbformat_minor": 0,
  "metadata": {
    "colab": {
      "provenance": [],
      "authorship_tag": "ABX9TyOCnzy3NCMAVxxpfc2q2c3G",
      "include_colab_link": true
    },
    "kernelspec": {
      "name": "python3",
      "display_name": "Python 3"
    },
    "language_info": {
      "name": "python"
    }
  },
  "cells": [
    {
      "cell_type": "markdown",
      "metadata": {
        "id": "view-in-github",
        "colab_type": "text"
      },
      "source": [
        "<a href=\"https://colab.research.google.com/github/romasha-khurshid/walnut-brownies/blob/HateSpeechFilteration/HateSpeech.ipynb\" target=\"_parent\"><img src=\"https://colab.research.google.com/assets/colab-badge.svg\" alt=\"Open In Colab\"/></a>"
      ]
    },
    {
      "cell_type": "markdown",
      "source": [
        "# Sentiments Analysis Using Textblob"
      ],
      "metadata": {
        "id": "7-ihWDCZNZFx"
      }
    },
    {
      "cell_type": "code",
      "source": [
        "!pip install textblob"
      ],
      "metadata": {
        "colab": {
          "base_uri": "https://localhost:8080/"
        },
        "id": "yWWJ98WmNmb4",
        "outputId": "abb58c67-9e61-4967-c226-eff5dfaf48f2"
      },
      "execution_count": 5,
      "outputs": [
        {
          "output_type": "stream",
          "name": "stdout",
          "text": [
            "Looking in indexes: https://pypi.org/simple, https://us-python.pkg.dev/colab-wheels/public/simple/\n",
            "Requirement already satisfied: textblob in /usr/local/lib/python3.9/dist-packages (0.17.1)\n",
            "Requirement already satisfied: nltk>=3.1 in /usr/local/lib/python3.9/dist-packages (from textblob) (3.8.1)\n",
            "Requirement already satisfied: joblib in /usr/local/lib/python3.9/dist-packages (from nltk>=3.1->textblob) (1.1.1)\n",
            "Requirement already satisfied: regex>=2021.8.3 in /usr/local/lib/python3.9/dist-packages (from nltk>=3.1->textblob) (2022.10.31)\n",
            "Requirement already satisfied: tqdm in /usr/local/lib/python3.9/dist-packages (from nltk>=3.1->textblob) (4.65.0)\n",
            "Requirement already satisfied: click in /usr/local/lib/python3.9/dist-packages (from nltk>=3.1->textblob) (8.1.3)\n"
          ]
        }
      ]
    },
    {
      "cell_type": "code",
      "source": [
        "import pandas as pd\n",
        "from textblob import TextBlob\n",
        "from nltk.tokenize.toktok import ToktokTokenizer\n",
        "import re\n",
        "tokenizer=ToktokTokenizer()\n",
        "import spacy\n",
        "nlp=spacy.load('en_core_web_sm',disable=['ner'])\n"
      ],
      "metadata": {
        "id": "WWSLLqRDNuEf"
      },
      "execution_count": 6,
      "outputs": []
    },
    {
      "cell_type": "markdown",
      "source": [
        "**Data** **Loading** \n",
        "\n",
        "**Data** **Source**: https://www.kaggle.com/datasets/vkrahul/twitter-hate-speech?select=train_E6oV3lV.csv"
      ],
      "metadata": {
        "id": "01XoXT48TIg2"
      }
    },
    {
      "cell_type": "code",
      "source": [
        "data=pd.read_csv(\"/content/train_E6oV3lV.csv\")\n",
        "filtered_data=data.drop('id',axis=1)"
      ],
      "metadata": {
        "id": "i-F_6sMmR_E0"
      },
      "execution_count": 7,
      "outputs": []
    },
    {
      "cell_type": "code",
      "source": [
        "print(filtered_data['label'].unique()) # check the unique values in the 'Class' column\n",
        "train_label_1 = filtered_data[filtered_data['label'] == 1].sample(n=5000, replace=True, random_state=1) # set sample size to 5000\n",
        "train_label_0 =filtered_data[filtered_data['label'] == 0].sample(n=3000, replace=True, random_state=2)\n",
        "train=pd.concat([train_label_1,train_label_0])\n",
        "train\n",
        "\n"
      ],
      "metadata": {
        "id": "IoZbHPxTUupU"
      },
      "execution_count": null,
      "outputs": []
    },
    {
      "cell_type": "code",
      "source": [],
      "metadata": {
        "id": "mxh54hF8Q1ou"
      },
      "execution_count": null,
      "outputs": []
    },
    {
      "cell_type": "code",
      "source": [
        "from sklearn.utils import shuffle\n",
        "train=shuffle(train)\n",
        "train"
      ],
      "metadata": {
        "id": "V9ch7aHk-tRN"
      },
      "execution_count": null,
      "outputs": []
    },
    {
      "cell_type": "code",
      "source": [
        "train.isnull().sum()"
      ],
      "metadata": {
        "colab": {
          "base_uri": "https://localhost:8080/"
        },
        "id": "0VQz2H7SFGi5",
        "outputId": "529a1189-55e6-48bc-d53e-ad640a8aa94e"
      },
      "execution_count": 10,
      "outputs": [
        {
          "output_type": "execute_result",
          "data": {
            "text/plain": [
              "label    0\n",
              "tweet    0\n",
              "dtype: int64"
            ]
          },
          "metadata": {},
          "execution_count": 10
        }
      ]
    },
    {
      "cell_type": "code",
      "source": [
        "import numpy as np\n",
        "train.replace(r'^\\s*$',np.nan,regex=True,inplace=True)\n",
        "train.dropna(axis=0,how='any',inplace=True)"
      ],
      "metadata": {
        "id": "UkZMNrrwk8nJ"
      },
      "execution_count": 11,
      "outputs": []
    },
    {
      "cell_type": "code",
      "source": [
        "train.replace(to_replace=[\"r\\\\t|\\\\n}\\\\r\", \"\\t | \\n|\\r\"], value=[\"\",\"\"] ,regex=True ,inplace=True)\n",
        "print(\"escape sequence removed\")"
      ],
      "metadata": {
        "colab": {
          "base_uri": "https://localhost:8080/"
        },
        "id": "jGHj1Qbcsp3E",
        "outputId": "9d7eda32-1485-4153-e183-fd77a7de1f7a"
      },
      "execution_count": 12,
      "outputs": [
        {
          "output_type": "stream",
          "name": "stdout",
          "text": [
            "escape sequence removed\n"
          ]
        }
      ]
    },
    {
      "cell_type": "code",
      "source": [
        "train['tweet']=train['tweet'].str.encode('ascii','ignore').str.decode('ascii')\n"
      ],
      "metadata": {
        "id": "2bvBigNFu77v"
      },
      "execution_count": 13,
      "outputs": []
    },
    {
      "cell_type": "code",
      "source": [
        "def remove_punctuation(tweet):\n",
        "  import string\n",
        "  for punctuation in string.punctuation:\n",
        "    tweet=tweet.replace(punctuation,'')\n",
        "  return tweet\n",
        "train['tweet']=train['tweet'].apply(remove_punctuation)\n",
        "train\n",
        "\n"
      ],
      "metadata": {
        "id": "Q7Jn59KTxWc8"
      },
      "execution_count": null,
      "outputs": []
    },
    {
      "cell_type": "code",
      "source": [
        "import nltk\n",
        "from nltk.corpus import stopwords\n",
        "nltk.download('stopwords')\n",
        "print(stopwords.words('english'))"
      ],
      "metadata": {
        "colab": {
          "base_uri": "https://localhost:8080/"
        },
        "id": "xe6Uenn-zvH8",
        "outputId": "2b1293ce-857c-461d-861d-93d912cbd9e0"
      },
      "execution_count": 15,
      "outputs": [
        {
          "output_type": "stream",
          "name": "stderr",
          "text": [
            "[nltk_data] Downloading package stopwords to /root/nltk_data...\n"
          ]
        },
        {
          "output_type": "stream",
          "name": "stdout",
          "text": [
            "['i', 'me', 'my', 'myself', 'we', 'our', 'ours', 'ourselves', 'you', \"you're\", \"you've\", \"you'll\", \"you'd\", 'your', 'yours', 'yourself', 'yourselves', 'he', 'him', 'his', 'himself', 'she', \"she's\", 'her', 'hers', 'herself', 'it', \"it's\", 'its', 'itself', 'they', 'them', 'their', 'theirs', 'themselves', 'what', 'which', 'who', 'whom', 'this', 'that', \"that'll\", 'these', 'those', 'am', 'is', 'are', 'was', 'were', 'be', 'been', 'being', 'have', 'has', 'had', 'having', 'do', 'does', 'did', 'doing', 'a', 'an', 'the', 'and', 'but', 'if', 'or', 'because', 'as', 'until', 'while', 'of', 'at', 'by', 'for', 'with', 'about', 'against', 'between', 'into', 'through', 'during', 'before', 'after', 'above', 'below', 'to', 'from', 'up', 'down', 'in', 'out', 'on', 'off', 'over', 'under', 'again', 'further', 'then', 'once', 'here', 'there', 'when', 'where', 'why', 'how', 'all', 'any', 'both', 'each', 'few', 'more', 'most', 'other', 'some', 'such', 'no', 'nor', 'not', 'only', 'own', 'same', 'so', 'than', 'too', 'very', 's', 't', 'can', 'will', 'just', 'don', \"don't\", 'should', \"should've\", 'now', 'd', 'll', 'm', 'o', 're', 've', 'y', 'ain', 'aren', \"aren't\", 'couldn', \"couldn't\", 'didn', \"didn't\", 'doesn', \"doesn't\", 'hadn', \"hadn't\", 'hasn', \"hasn't\", 'haven', \"haven't\", 'isn', \"isn't\", 'ma', 'mightn', \"mightn't\", 'mustn', \"mustn't\", 'needn', \"needn't\", 'shan', \"shan't\", 'shouldn', \"shouldn't\", 'wasn', \"wasn't\", 'weren', \"weren't\", 'won', \"won't\", 'wouldn', \"wouldn't\"]\n"
          ]
        },
        {
          "output_type": "stream",
          "name": "stderr",
          "text": [
            "[nltk_data]   Unzipping corpora/stopwords.zip.\n"
          ]
        }
      ]
    },
    {
      "cell_type": "code",
      "source": [
        "stopwords_list=nltk.corpus.stopwords.words('english')\n",
        "stopwords_list.remove('no')\n",
        "stopwords_list.remove('not')\n"
      ],
      "metadata": {
        "id": "z2sCOV0c136c"
      },
      "execution_count": 16,
      "outputs": []
    },
    {
      "cell_type": "code",
      "source": [
        "from spacy import tokens\n",
        "def remove_stopwords(tweet,is_lower_case=False):\n",
        "  tokens=tokenizer.tokenize(tweet)\n",
        "  tokens=[token.strip() for token in tokens]\n",
        "  if is_lower_case:\n",
        "    filtered_tokens=[token for token in tokens if token not in stopwords_list]\n",
        "  else:\n",
        "    filtered_tokens=[token for token in tokens if token.lower() not in stopwords_list]\n",
        "  filtered_text=' '.join(filtered_tokens)\n",
        "  return filtered_text"
      ],
      "metadata": {
        "id": "Bi_yva7n4-83"
      },
      "execution_count": 17,
      "outputs": []
    },
    {
      "cell_type": "code",
      "source": [
        "train['tweet']=train['tweet'].apply(remove_stopwords)\n"
      ],
      "metadata": {
        "id": "Y1tVGdhI-hn4"
      },
      "execution_count": 18,
      "outputs": []
    },
    {
      "cell_type": "code",
      "source": [
        "def remove_special_character(tweet):\n",
        "  text=re.sub('[^a-zA-Z0-9\\s]','',tweet)\n",
        "  return text\n",
        "train['tweet'] =train['tweet'].apply(remove_special_character)\n",
        "train"
      ],
      "metadata": {
        "id": "KYpSV7-bPVCb"
      },
      "execution_count": null,
      "outputs": []
    },
    {
      "cell_type": "code",
      "source": [
        "def remove_html(tweet):\n",
        "  import re\n",
        "  html_pattern=re.compile('<.*?>')\n",
        "  return html_pattern.sub(r' ',tweet)"
      ],
      "metadata": {
        "id": "DvntzW7OQkaH"
      },
      "execution_count": 20,
      "outputs": []
    },
    {
      "cell_type": "code",
      "source": [
        "train['tweet']=train['tweet'].apply(remove_html)\n",
        "train"
      ],
      "metadata": {
        "id": "AflSba-6QspA"
      },
      "execution_count": null,
      "outputs": []
    },
    {
      "cell_type": "code",
      "source": [
        "import re\n",
        "\n",
        "def remove_URL(tweet):\n",
        "    if not isinstance(tweet, str):\n",
        "        tweet = str(tweet)\n",
        "    url = re.compile(r'https?://\\S+|www\\.\\S+')\n",
        "    return url.sub(r' ', tweet)\n"
      ],
      "metadata": {
        "id": "X6uwWk9ORyf0"
      },
      "execution_count": 22,
      "outputs": []
    },
    {
      "cell_type": "code",
      "source": [
        "train['tweet']=train['tweet'].apply(remove_URL)   \n",
        "train"
      ],
      "metadata": {
        "id": "8AMQfjzFW1oh"
      },
      "execution_count": null,
      "outputs": []
    },
    {
      "cell_type": "code",
      "source": [
        "train"
      ],
      "metadata": {
        "id": "W7OGrozzGBor"
      },
      "execution_count": null,
      "outputs": []
    },
    {
      "cell_type": "code",
      "source": [
        "def remove_digits(tweet):  \n",
        "    return ''.join([i for i in tweet if not i.isdigit()])\n",
        "\n",
        "train['tweet'] = train['tweet'].apply(remove_digits)"
      ],
      "metadata": {
        "id": "B023R9z3UPhq"
      },
      "execution_count": 25,
      "outputs": []
    },
    {
      "cell_type": "code",
      "source": [
        "train"
      ],
      "metadata": {
        "id": "isV808PTVNO-"
      },
      "execution_count": null,
      "outputs": []
    },
    {
      "cell_type": "code",
      "source": [
        "def cleanse(word):\n",
        "   rx=re.compile(r'\\D*\\d')\n",
        "   if rx.match(word):\n",
        "       return ''\n",
        "   return word\n",
        "def remove_alphanumeric(strings):\n",
        "  nstring=[\" \".join(filter(None,(cleanse(word)for word in string.split())))  \n",
        "  for string in strings.split()]\n",
        "  str1=' '.join(nstring)\n",
        "  return str1"
      ],
      "metadata": {
        "id": "UWgYVpOBxf1b"
      },
      "execution_count": 27,
      "outputs": []
    },
    {
      "cell_type": "code",
      "source": [
        "train['tweet'] = train['tweet'].apply(remove_alphanumeric)"
      ],
      "metadata": {
        "id": "ExLRUIuH0q62"
      },
      "execution_count": 28,
      "outputs": []
    },
    {
      "cell_type": "code",
      "source": [
        "train"
      ],
      "metadata": {
        "id": "Zw4wEs9u0yqj"
      },
      "execution_count": null,
      "outputs": []
    },
    {
      "cell_type": "code",
      "source": [
        "def lemmatize_text(tweet):\n",
        "    tweet=nlp(tweet)\n",
        "    tweet=' '.join([word.lemma_ if word.lemma_!= '-PRON-' else word.tweet for word in tweet])\n",
        "    return tweet"
      ],
      "metadata": {
        "id": "vQAWT8uoj9ET"
      },
      "execution_count": 30,
      "outputs": []
    },
    {
      "cell_type": "code",
      "source": [
        "train['tweet'] = train['tweet'].apply(lemmatize_text)\n",
        "train"
      ],
      "metadata": {
        "id": "EBDM7-J_gB64"
      },
      "execution_count": null,
      "outputs": []
    },
    {
      "cell_type": "code",
      "source": [
        "train['sentiments']=train['tweet'].apply(lambda tweet:TextBlob(tweet).sentiment)"
      ],
      "metadata": {
        "id": "kZaxUh6CjToC"
      },
      "execution_count": 37,
      "outputs": []
    },
    {
      "cell_type": "code",
      "source": [
        "sentiments_series=train['sentiments'].tolist()"
      ],
      "metadata": {
        "id": "-MkGiX7wj-c9"
      },
      "execution_count": 38,
      "outputs": []
    },
    {
      "cell_type": "code",
      "source": [
        "columns=['Polarity','Subjectivity']"
      ],
      "metadata": {
        "id": "PlIZyoJIlmRh"
      },
      "execution_count": 39,
      "outputs": []
    },
    {
      "cell_type": "code",
      "source": [
        "df=pd.DataFrame(sentiments_series,columns=columns,index=train.index)"
      ],
      "metadata": {
        "id": "f7ei3Jozlmea"
      },
      "execution_count": 45,
      "outputs": []
    },
    {
      "cell_type": "code",
      "source": [
        "result=pd.concat([df,train],axis=1)"
      ],
      "metadata": {
        "id": "4EinZGLgmS0d"
      },
      "execution_count": 46,
      "outputs": []
    },
    {
      "cell_type": "code",
      "source": [
        "result.drop(['sentiments'],axis=1,inplace=True)"
      ],
      "metadata": {
        "id": "Zml9YDIqmtO2"
      },
      "execution_count": 55,
      "outputs": []
    },
    {
      "cell_type": "code",
      "source": [
        "result.loc[result['Polarity']<0.3,'sentiment']='Negative'\n",
        "result.loc[result['Polarity']>=0.3,'sentiment']='Positive'"
      ],
      "metadata": {
        "id": "tCBuESckoFer"
      },
      "execution_count": 63,
      "outputs": []
    },
    {
      "cell_type": "code",
      "source": [
        "result"
      ],
      "metadata": {
        "id": "uOwfYpsfoFn4"
      },
      "execution_count": null,
      "outputs": []
    },
    {
      "cell_type": "code",
      "source": [
        "df_hate_speech=result.loc[result['Polarity']<0.3]\n",
        "df_hate_speech"
      ],
      "metadata": {
        "id": "sQz64_-QoFy7"
      },
      "execution_count": null,
      "outputs": []
    }
  ]
}